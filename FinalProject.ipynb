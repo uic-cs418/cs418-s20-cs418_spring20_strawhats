{
 "cells": [
  {
   "cell_type": "markdown",
   "metadata": {},
   "source": [
    "# CS 418 STRAWHATS\n"
   ]
  },
  {
   "cell_type": "markdown",
   "metadata": {},
   "source": [
    "Akhil Abraham, Akhila Abraham, Amal Johnson, Vishal Patel, Gineesh Pillai"
   ]
  },
  {
   "cell_type": "markdown",
   "metadata": {},
   "source": [
    "# Introduction"
   ]
  },
  {
   "cell_type": "markdown",
   "metadata": {},
   "source": [
    "Our team is analyzing Chicago Crimes Data to understand the different kinds of crimes in our communities. We are also trying to understand the econmoic factors that contribute to crime by looking at a SocioEconomic Indicator data set. By merging the above two data sets, we hope to get a better understanding of how crime is affected by the various socioeconomic factors particularly employement and income. \n",
    "\n",
    "Datasets used: \n",
    "\n",
    "Crimes - 2001 to present:\n",
    "https://data.cityofchicago.org/Public-Safety/Crimes-2001-to-present-Dashboard/5cd6-ry5g\n",
    "Contains information about crimes from 2001 to present. There are about 8M rows. This data will be filtered down to include years from 2008-present. Contains information about Arrests that has occured, Descriptions of crimes, year and type of crime along with a few others. Many columns will be ommitted as well. \n",
    "\n",
    "Census Data - Selected socioeconomic indicators in Chicago, 2008 – 2012: \n",
    "https://catalog.data.gov/dataset/census-data-selected-socioeconomic-indicators-in-chicago-2008-2012-36e55\n",
    "Contains information about communities, education, income levels. \n",
    "\n"
   ]
  },
  {
   "cell_type": "markdown",
   "metadata": {},
   "source": [
    "# Changes"
   ]
  },
  {
   "cell_type": "markdown",
   "metadata": {},
   "source": [
    "When first starting the project, our group wanted to use the Crimes data set along with CTA Lstops data set to find crimes around CTA stops. After spending several weeks and trying to find a valid common data to be merged on, we realized that merging these two datasets is near impossible. Our group then decided to use our SocioEconomic data set with crimes as they both share columns where the data can be compared and matched with. "
   ]
  },
  {
   "cell_type": "markdown",
   "metadata": {},
   "source": [
    "# Data cleaning"
   ]
  },
  {
   "cell_type": "markdown",
   "metadata": {},
   "source": [
    "The Crimes Data set had about 8 million rows and was extremely large. In order to narrow this down and let this match with our SocioEconomic data set, we filtered the year to start from 2008. The years for both the data sets are from 2008-2020 We also made sure to remove null values and delete a few unwanted columns from both the data sets. The SocioEconomic data set didn't need a lot of removal of the columns. We merged Crime data set along with our SocioEconomic data set leading to about 4million rows worth of data. After Data cleaning, we were able to get 12 years worth of valid data. Some of the columns from the final merged dataframe, we see the locations, descriptions, Arrest along with the community of where these occured. We are also able to see the population, education and income information from the merged data. "
   ]
  },
  {
   "cell_type": "code",
   "execution_count": 1,
   "metadata": {},
   "outputs": [],
   "source": [
    "import pandas as pd\n",
    "import numpy as np\n",
    "import seaborn as sns\n",
    "import os\n",
    "%matplotlib inline\n",
    "import matplotlib.pyplot as plt\n",
    "from sklearn.model_selection import train_test_split\n",
    "from google.cloud import storage\n",
    "\n",
    "%load_ext google.cloud.bigquery"
   ]
  },
  {
   "cell_type": "code",
   "execution_count": 2,
   "metadata": {},
   "outputs": [],
   "source": [
    "os.environ['GOOGLE_APPLICATION_CREDENTIALS'] = 'project-key.json'"
   ]
  },
  {
   "cell_type": "markdown",
   "metadata": {},
   "source": [
    "Populating all the crimes that has occured at community area 28, which is the \"Near West Side\" community area. We selected this mainly because we are analyzing crime data in relation to UIC and this is the community that UIC is located at. We also only included domestic crimes to have the list filtered as much as possible."
   ]
  },
  {
   "cell_type": "code",
<<<<<<< HEAD
   "execution_count": 3,
=======
   "execution_count": 31,
>>>>>>> 67ff97bbb10983488d55cdd1958326e52f9815a3
   "metadata": {},
   "outputs": [],
   "source": [
    "%%bigquery crimesData\n",
    "\n",
    "SELECT year, primary_type, description, location_description, district, arrest, COUNT(*) AS Num_Occurance\n",
    "FROM `bigquery-public-data.chicago_crime.crime` data\n",
    "WHERE (primary_type != 'OTHER OFFENSE' AND primary_type NOT like '%NON-CRIMINAL%') \n",
    "      AND (year <= 2020) AND community_area = 28\n",
    "GROUP BY year, primary_type, description, location_description, district, arrest, domestic\n",
    "ORDER BY year DESC;"
   ]
  },
  {
   "cell_type": "code",
<<<<<<< HEAD
   "execution_count": 4,
=======
   "execution_count": 32,
>>>>>>> 67ff97bbb10983488d55cdd1958326e52f9815a3
   "metadata": {},
   "outputs": [
    {
     "data": {
      "text/html": [
       "<div>\n",
       "<style scoped>\n",
       "    .dataframe tbody tr th:only-of-type {\n",
       "        vertical-align: middle;\n",
       "    }\n",
       "\n",
       "    .dataframe tbody tr th {\n",
       "        vertical-align: top;\n",
       "    }\n",
       "\n",
       "    .dataframe thead th {\n",
       "        text-align: right;\n",
       "    }\n",
       "</style>\n",
       "<table border=\"1\" class=\"dataframe\">\n",
       "  <thead>\n",
       "    <tr style=\"text-align: right;\">\n",
       "      <th></th>\n",
       "      <th>year</th>\n",
       "      <th>primary_type</th>\n",
       "      <th>description</th>\n",
       "      <th>location_description</th>\n",
       "      <th>district</th>\n",
       "      <th>arrest</th>\n",
       "      <th>Num_Occurance</th>\n",
       "    </tr>\n",
       "  </thead>\n",
       "  <tbody>\n",
       "    <tr>\n",
       "      <td>0</td>\n",
       "      <td>2020</td>\n",
<<<<<<< HEAD
       "      <td>CRIMINAL TRESPASS</td>\n",
       "      <td>TO RESIDENCE</td>\n",
       "      <td>RESIDENCE</td>\n",
       "      <td>12</td>\n",
=======
       "      <td>THEFT</td>\n",
       "      <td>PURSE-SNATCHING</td>\n",
       "      <td>STREET</td>\n",
       "      <td>12.0</td>\n",
>>>>>>> 67ff97bbb10983488d55cdd1958326e52f9815a3
       "      <td>False</td>\n",
       "      <td>4</td>\n",
       "    </tr>\n",
       "    <tr>\n",
       "      <td>1</td>\n",
       "      <td>2020</td>\n",
<<<<<<< HEAD
       "      <td>HOMICIDE</td>\n",
       "      <td>FIRST DEGREE MURDER</td>\n",
       "      <td>CHA APARTMENT</td>\n",
       "      <td>12</td>\n",
=======
       "      <td>BATTERY</td>\n",
       "      <td>AGGRAVATED DOMESTIC BATTERY - KNIFE / CUTTING ...</td>\n",
       "      <td>APARTMENT</td>\n",
       "      <td>1.0</td>\n",
>>>>>>> 67ff97bbb10983488d55cdd1958326e52f9815a3
       "      <td>True</td>\n",
       "      <td>1</td>\n",
       "    </tr>\n",
       "    <tr>\n",
       "      <td>2</td>\n",
       "      <td>2020</td>\n",
<<<<<<< HEAD
       "      <td>BATTERY</td>\n",
       "      <td>AGGRAVATED DOMESTIC BATTERY: OTHER DANG WEAPON</td>\n",
       "      <td>RESIDENCE</td>\n",
       "      <td>12</td>\n",
=======
       "      <td>DECEPTIVE PRACTICE</td>\n",
       "      <td>FRAUD OR CONFIDENCE GAME</td>\n",
       "      <td>GROCERY FOOD STORE</td>\n",
       "      <td>12.0</td>\n",
>>>>>>> 67ff97bbb10983488d55cdd1958326e52f9815a3
       "      <td>False</td>\n",
       "      <td>1</td>\n",
       "    </tr>\n",
       "    <tr>\n",
       "      <td>3</td>\n",
       "      <td>2020</td>\n",
<<<<<<< HEAD
       "      <td>THEFT</td>\n",
       "      <td>PURSE-SNATCHING</td>\n",
       "      <td>SIDEWALK</td>\n",
       "      <td>1</td>\n",
=======
       "      <td>DECEPTIVE PRACTICE</td>\n",
       "      <td>THEFT BY LESSEE, MOTOR VEHICLE</td>\n",
       "      <td>OTHER (SPECIFY)</td>\n",
       "      <td>1.0</td>\n",
>>>>>>> 67ff97bbb10983488d55cdd1958326e52f9815a3
       "      <td>False</td>\n",
       "      <td>1</td>\n",
       "    </tr>\n",
       "    <tr>\n",
       "      <td>4</td>\n",
       "      <td>2020</td>\n",
       "      <td>BATTERY</td>\n",
<<<<<<< HEAD
       "      <td>AGGRAVATED DOMESTIC BATTERY: OTHER DANG WEAPON</td>\n",
       "      <td>APARTMENT</td>\n",
       "      <td>12</td>\n",
=======
       "      <td>PRO EMP HANDS NO/MIN INJURY</td>\n",
       "      <td>SCHOOL, PRIVATE, BUILDING</td>\n",
       "      <td>12.0</td>\n",
>>>>>>> 67ff97bbb10983488d55cdd1958326e52f9815a3
       "      <td>False</td>\n",
       "      <td>1</td>\n",
       "    </tr>\n",
       "  </tbody>\n",
       "</table>\n",
       "</div>"
      ],
      "text/plain": [
<<<<<<< HEAD
       "   year       primary_type                                     description  \\\n",
       "0  2020  CRIMINAL TRESPASS                                    TO RESIDENCE   \n",
       "1  2020           HOMICIDE                             FIRST DEGREE MURDER   \n",
       "2  2020            BATTERY  AGGRAVATED DOMESTIC BATTERY: OTHER DANG WEAPON   \n",
       "3  2020              THEFT                                 PURSE-SNATCHING   \n",
       "4  2020            BATTERY  AGGRAVATED DOMESTIC BATTERY: OTHER DANG WEAPON   \n",
       "\n",
       "  location_description  district  arrest  Num_Occurance  \n",
       "0            RESIDENCE        12   False              1  \n",
       "1        CHA APARTMENT        12    True              1  \n",
       "2            RESIDENCE        12   False              1  \n",
       "3             SIDEWALK         1   False              1  \n",
       "4            APARTMENT        12   False              1  "
      ]
     },
     "execution_count": 4,
=======
       "   year        primary_type  \\\n",
       "0  2020               THEFT   \n",
       "1  2020             BATTERY   \n",
       "2  2020  DECEPTIVE PRACTICE   \n",
       "3  2020  DECEPTIVE PRACTICE   \n",
       "4  2020             BATTERY   \n",
       "\n",
       "                                         description  \\\n",
       "0                                    PURSE-SNATCHING   \n",
       "1  AGGRAVATED DOMESTIC BATTERY - KNIFE / CUTTING ...   \n",
       "2                           FRAUD OR CONFIDENCE GAME   \n",
       "3                     THEFT BY LESSEE, MOTOR VEHICLE   \n",
       "4                        PRO EMP HANDS NO/MIN INJURY   \n",
       "\n",
       "        location_description  district  arrest  Num_Occurance  \n",
       "0                     STREET      12.0   False              4  \n",
       "1                  APARTMENT       1.0    True              1  \n",
       "2         GROCERY FOOD STORE      12.0   False              1  \n",
       "3            OTHER (SPECIFY)       1.0   False              1  \n",
       "4  SCHOOL, PRIVATE, BUILDING      12.0   False              1  "
      ]
     },
     "execution_count": 32,
>>>>>>> 67ff97bbb10983488d55cdd1958326e52f9815a3
     "metadata": {},
     "output_type": "execute_result"
    }
   ],
   "source": [
    "crimesData.head()"
   ]
  },
  {
   "cell_type": "markdown",
   "metadata": {},
   "source": [
    "Organizing the Data from socioecon.csv fil which contains data about socio economics for each of the community areas."
   ]
  },
  {
   "cell_type": "code",
   "execution_count": 5,
   "metadata": {},
   "outputs": [
    {
     "data": {
      "text/html": [
       "<div>\n",
       "<style scoped>\n",
       "    .dataframe tbody tr th:only-of-type {\n",
       "        vertical-align: middle;\n",
       "    }\n",
       "\n",
       "    .dataframe tbody tr th {\n",
       "        vertical-align: top;\n",
       "    }\n",
       "\n",
       "    .dataframe thead th {\n",
       "        text-align: right;\n",
       "    }\n",
       "</style>\n",
       "<table border=\"1\" class=\"dataframe\">\n",
       "  <thead>\n",
       "    <tr style=\"text-align: right;\">\n",
       "      <th></th>\n",
       "      <th>Community Area</th>\n",
       "      <th>COMMUNITY AREA NAME</th>\n",
       "      <th>PERCENT OF HOUSING CROWDED</th>\n",
       "      <th>PERCENT HOUSEHOLDS BELOW POVERTY</th>\n",
       "      <th>PERCENT AGED 16+ UNEMPLOYED</th>\n",
       "      <th>PERCENT AGED 25+ WITHOUT HIGH SCHOOL DIPLOMA</th>\n",
       "      <th>PERCENT AGED UNDER 18 OR OVER 64</th>\n",
       "      <th>PER CAPITA INCOME</th>\n",
       "    </tr>\n",
       "  </thead>\n",
       "  <tbody>\n",
       "    <tr>\n",
       "      <td>72</td>\n",
       "      <td>73.0</td>\n",
       "      <td>Washington Height</td>\n",
       "      <td>1.1</td>\n",
       "      <td>16.9</td>\n",
       "      <td>20.8</td>\n",
       "      <td>13.7</td>\n",
       "      <td>42.6</td>\n",
       "      <td>19713</td>\n",
       "    </tr>\n",
       "    <tr>\n",
       "      <td>73</td>\n",
       "      <td>74.0</td>\n",
       "      <td>Mount Greenwood</td>\n",
       "      <td>1.0</td>\n",
       "      <td>3.4</td>\n",
       "      <td>8.7</td>\n",
       "      <td>4.3</td>\n",
       "      <td>36.8</td>\n",
       "      <td>34381</td>\n",
       "    </tr>\n",
       "    <tr>\n",
       "      <td>74</td>\n",
       "      <td>75.0</td>\n",
       "      <td>Morgan Park</td>\n",
       "      <td>0.8</td>\n",
       "      <td>13.2</td>\n",
       "      <td>15.0</td>\n",
       "      <td>10.8</td>\n",
       "      <td>40.3</td>\n",
       "      <td>27149</td>\n",
       "    </tr>\n",
       "    <tr>\n",
       "      <td>75</td>\n",
       "      <td>76.0</td>\n",
       "      <td>O'Hare</td>\n",
       "      <td>3.6</td>\n",
       "      <td>15.4</td>\n",
       "      <td>7.1</td>\n",
       "      <td>10.9</td>\n",
       "      <td>30.3</td>\n",
       "      <td>25828</td>\n",
       "    </tr>\n",
       "    <tr>\n",
       "      <td>76</td>\n",
       "      <td>77.0</td>\n",
       "      <td>Edgewater</td>\n",
       "      <td>4.1</td>\n",
       "      <td>18.2</td>\n",
       "      <td>9.2</td>\n",
       "      <td>9.7</td>\n",
       "      <td>23.8</td>\n",
       "      <td>33385</td>\n",
       "    </tr>\n",
       "  </tbody>\n",
       "</table>\n",
       "</div>"
      ],
      "text/plain": [
       "    Community Area COMMUNITY AREA NAME  PERCENT OF HOUSING CROWDED  \\\n",
       "72            73.0   Washington Height                         1.1   \n",
       "73            74.0     Mount Greenwood                         1.0   \n",
       "74            75.0         Morgan Park                         0.8   \n",
       "75            76.0              O'Hare                         3.6   \n",
       "76            77.0           Edgewater                         4.1   \n",
       "\n",
       "    PERCENT HOUSEHOLDS BELOW POVERTY  PERCENT AGED 16+ UNEMPLOYED  \\\n",
       "72                              16.9                         20.8   \n",
       "73                               3.4                          8.7   \n",
       "74                              13.2                         15.0   \n",
       "75                              15.4                          7.1   \n",
       "76                              18.2                          9.2   \n",
       "\n",
       "    PERCENT AGED 25+ WITHOUT HIGH SCHOOL DIPLOMA  \\\n",
       "72                                          13.7   \n",
       "73                                           4.3   \n",
       "74                                          10.8   \n",
       "75                                          10.9   \n",
       "76                                           9.7   \n",
       "\n",
       "    PERCENT AGED UNDER 18 OR OVER 64  PER CAPITA INCOME   \n",
       "72                              42.6               19713  \n",
       "73                              36.8               34381  \n",
       "74                              40.3               27149  \n",
       "75                              30.3               25828  \n",
       "76                              23.8               33385  "
      ]
     },
     "execution_count": 5,
     "metadata": {},
     "output_type": "execute_result"
    }
   ],
   "source": [
    "rawSocio = pd.read_csv(\"socioecon.csv\")\n",
    "rawSocio = rawSocio.drop(columns=['HARDSHIP INDEX'])\n",
    "rawSocio = rawSocio.rename(columns={'Community Area Number': 'Community Area'})\n",
    "rawSocio = rawSocio[rawSocio['Community Area'].notna()]\n",
    "rawSocio.tail()"
   ]
  },
  {
   "cell_type": "markdown",
   "metadata": {},
   "source": [
    "Now we need to get the socio economic data about the area UIC is located at"
   ]
  },
  {
   "cell_type": "code",
   "execution_count": 15,
   "metadata": {},
   "outputs": [
    {
     "data": {
      "text/html": [
       "<div>\n",
       "<style scoped>\n",
       "    .dataframe tbody tr th:only-of-type {\n",
       "        vertical-align: middle;\n",
       "    }\n",
       "\n",
       "    .dataframe tbody tr th {\n",
       "        vertical-align: top;\n",
       "    }\n",
       "\n",
       "    .dataframe thead th {\n",
       "        text-align: right;\n",
       "    }\n",
       "</style>\n",
       "<table border=\"1\" class=\"dataframe\">\n",
       "  <thead>\n",
       "    <tr style=\"text-align: right;\">\n",
       "      <th></th>\n",
       "      <th>Community Area</th>\n",
       "      <th>COMMUNITY AREA NAME</th>\n",
       "      <th>PERCENT OF HOUSING CROWDED</th>\n",
       "      <th>PERCENT HOUSEHOLDS BELOW POVERTY</th>\n",
       "      <th>PERCENT AGED 16+ UNEMPLOYED</th>\n",
       "      <th>PERCENT AGED 25+ WITHOUT HIGH SCHOOL DIPLOMA</th>\n",
       "      <th>PERCENT AGED UNDER 18 OR OVER 64</th>\n",
       "      <th>PER CAPITA INCOME</th>\n",
       "    </tr>\n",
       "  </thead>\n",
       "  <tbody>\n",
       "    <tr>\n",
       "      <td>27</td>\n",
       "      <td>28.0</td>\n",
       "      <td>Near West Side</td>\n",
       "      <td>3.8</td>\n",
       "      <td>20.6</td>\n",
       "      <td>10.7</td>\n",
       "      <td>9.6</td>\n",
       "      <td>22.2</td>\n",
       "      <td>44689</td>\n",
       "    </tr>\n",
       "  </tbody>\n",
       "</table>\n",
       "</div>"
      ],
      "text/plain": [
       "    Community Area COMMUNITY AREA NAME  PERCENT OF HOUSING CROWDED  \\\n",
       "27            28.0      Near West Side                         3.8   \n",
       "\n",
       "    PERCENT HOUSEHOLDS BELOW POVERTY  PERCENT AGED 16+ UNEMPLOYED  \\\n",
       "27                              20.6                         10.7   \n",
       "\n",
       "    PERCENT AGED 25+ WITHOUT HIGH SCHOOL DIPLOMA  \\\n",
       "27                                           9.6   \n",
       "\n",
       "    PERCENT AGED UNDER 18 OR OVER 64  PER CAPITA INCOME   \n",
       "27                              22.2               44689  "
      ]
     },
     "execution_count": 15,
     "metadata": {},
     "output_type": "execute_result"
    }
   ],
   "source": [
    "newrawSocio = rawSocio.loc[rawSocio['Community Area'] == 28.0]\n",
    "newrawSocio"
   ]
  },
  {
   "cell_type": "code",
   "execution_count": 7,
   "metadata": {},
   "outputs": [],
   "source": [
    "%%bigquery arrestsData\n",
    "\n",
    "SELECT primary_type, arrest, COUNT(*) as counts FROM `bigquery-public-data.chicago_crime.crime`\n",
    "WHERE (primary_type <> 'OTHER OFFENSE' AND primary_type NOT like '%NON-CRIMINAL%') \n",
    "AND (year <= 2020) AND community_area = 28 AND domestic = true\n",
    "GROUP BY primary_type, arrest\n",
    "ORDER BY primary_type, arrest;\n"
   ]
  },
  {
   "cell_type": "code",
   "execution_count": 8,
   "metadata": {},
   "outputs": [
    {
     "data": {
      "text/html": [
       "<div>\n",
       "<style scoped>\n",
       "    .dataframe tbody tr th:only-of-type {\n",
       "        vertical-align: middle;\n",
       "    }\n",
       "\n",
       "    .dataframe tbody tr th {\n",
       "        vertical-align: top;\n",
       "    }\n",
       "\n",
       "    .dataframe thead th {\n",
       "        text-align: right;\n",
       "    }\n",
       "</style>\n",
       "<table border=\"1\" class=\"dataframe\">\n",
       "  <thead>\n",
       "    <tr style=\"text-align: right;\">\n",
       "      <th></th>\n",
       "      <th>primary_type</th>\n",
       "      <th>arrest</th>\n",
       "      <th>counts</th>\n",
       "    </tr>\n",
       "  </thead>\n",
       "  <tbody>\n",
       "    <tr>\n",
       "      <td>0</td>\n",
       "      <td>ARSON</td>\n",
       "      <td>False</td>\n",
       "      <td>3</td>\n",
       "    </tr>\n",
       "    <tr>\n",
       "      <td>1</td>\n",
       "      <td>ARSON</td>\n",
       "      <td>True</td>\n",
       "      <td>3</td>\n",
       "    </tr>\n",
       "    <tr>\n",
       "      <td>2</td>\n",
       "      <td>ASSAULT</td>\n",
       "      <td>False</td>\n",
       "      <td>1501</td>\n",
       "    </tr>\n",
       "    <tr>\n",
       "      <td>3</td>\n",
       "      <td>ASSAULT</td>\n",
       "      <td>True</td>\n",
       "      <td>264</td>\n",
       "    </tr>\n",
       "    <tr>\n",
       "      <td>4</td>\n",
       "      <td>BATTERY</td>\n",
       "      <td>False</td>\n",
       "      <td>7026</td>\n",
       "    </tr>\n",
       "  </tbody>\n",
       "</table>\n",
       "</div>"
      ],
      "text/plain": [
       "  primary_type  arrest  counts\n",
       "0        ARSON   False       3\n",
       "1        ARSON    True       3\n",
       "2      ASSAULT   False    1501\n",
       "3      ASSAULT    True     264\n",
       "4      BATTERY   False    7026"
      ]
     },
     "execution_count": 8,
     "metadata": {},
     "output_type": "execute_result"
    }
   ],
   "source": [
    "arrestsData.head()"
   ]
  },
  {
   "cell_type": "code",
   "execution_count": 9,
   "metadata": {},
   "outputs": [],
   "source": [
    "#DO NOT RUN THIS\n",
    "# out_filepath=os.path.join(\"\",\"freq_crime.csv\")\n",
    "# crimesData.to_csv(out_filepath,index=False)\n",
    "# #edit made to save and have this uploaded"
   ]
  },
  {
   "cell_type": "markdown",
   "metadata": {},
   "source": [
    "# Visualization"
   ]
  },
  {
   "cell_type": "markdown",
   "metadata": {},
   "source": [
    "# The types of crimes"
   ]
  },
  {
   "cell_type": "markdown",
   "metadata": {},
   "source": [
    "In order to get a basic understanding, a donut chart has been used to show the different types of crimes that are occuring at the Near West Side Community. From this chart you can see that the most occuring crime at the Near West Side Community is Theft with 19.9%. From these visualizations we can conclude that battery and assault crimes are the most frequent type of crime happening in chicago and still not even half of the criminals are arrested,there has only been a 20 percent of arrests related to battery crimes and a 15 percent arrests related to assault crimes."
   ]
  },
  {
   "cell_type": "markdown",
   "metadata": {},
   "source": [
    "<img src=\"./visualization/v1.png\" />"
   ]
  },
  {
   "cell_type": "markdown",
   "metadata": {},
   "source": [
    "A table showing the occurances of each of the crimes has also been displayed below. It has been shortened to the top 12 primary types based on the count."
   ]
  },
  {
   "cell_type": "markdown",
   "metadata": {},
   "source": [
    "<img src=\"./visualization/v1Data.png\" />"
   ]
  },
  {
   "cell_type": "markdown",
   "metadata": {},
   "source": [
    "A stacked bar char showing the percentages of arrests for different crime types in chicago."
   ]
  },
  {
<<<<<<< HEAD
   "cell_type": "code",
   "execution_count": 10,
   "metadata": {},
   "outputs": [
    {
     "data": {
      "image/png": "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\n",
      "text/plain": [
       "<Figure size 1440x1440 with 1 Axes>"
      ]
     },
     "metadata": {
      "needs_background": "light"
     },
     "output_type": "display_data"
    }
   ],
=======
   "cell_type": "markdown",
   "metadata": {},
>>>>>>> 67ff97bbb10983488d55cdd1958326e52f9815a3
   "source": [
    "<img src=\"./visualization/arrestdata.png\" />"
   ]
  },
  {
   "cell_type": "markdown",
   "metadata": {},
   "source": [
    "# Machine Learning"
   ]
  },
  {
   "cell_type": "code",
   "execution_count": 24,
   "metadata": {},
   "outputs": [
    {
     "ename": "ValueError",
     "evalue": "zero-size array to reduction operation minimum which has no identity",
     "output_type": "error",
     "traceback": [
      "\u001b[1;31m---------------------------------------------------------------------------\u001b[0m",
      "\u001b[1;31mValueError\u001b[0m                                Traceback (most recent call last)",
      "\u001b[1;32m<ipython-input-24-683d6e920cac>\u001b[0m in \u001b[0;36m<module>\u001b[1;34m\u001b[0m\n\u001b[1;32m----> 1\u001b[1;33m \u001b[0msns\u001b[0m\u001b[1;33m.\u001b[0m\u001b[0mheatmap\u001b[0m\u001b[1;33m(\u001b[0m\u001b[0mrawSocio\u001b[0m\u001b[1;33m.\u001b[0m\u001b[0mcorr\u001b[0m\u001b[1;33m(\u001b[0m\u001b[1;33m)\u001b[0m\u001b[1;33m)\u001b[0m\u001b[1;33m.\u001b[0m\u001b[0mset_title\u001b[0m\u001b[1;33m(\u001b[0m\u001b[1;34m\"Correlation Heatmap\"\u001b[0m\u001b[1;33m,\u001b[0m \u001b[0msize\u001b[0m\u001b[1;33m=\u001b[0m\u001b[1;36m20\u001b[0m\u001b[1;33m)\u001b[0m\u001b[1;33m\u001b[0m\u001b[1;33m\u001b[0m\u001b[0m\n\u001b[0m",
      "\u001b[1;32m~\\Anaconda3\\lib\\site-packages\\seaborn\\matrix.py\u001b[0m in \u001b[0;36mheatmap\u001b[1;34m(data, vmin, vmax, cmap, center, robust, annot, fmt, annot_kws, linewidths, linecolor, cbar, cbar_kws, cbar_ax, square, xticklabels, yticklabels, mask, ax, **kwargs)\u001b[0m\n\u001b[0;32m    515\u001b[0m     plotter = _HeatMapper(data, vmin, vmax, cmap, center, robust, annot, fmt,\n\u001b[0;32m    516\u001b[0m                           \u001b[0mannot_kws\u001b[0m\u001b[1;33m,\u001b[0m \u001b[0mcbar\u001b[0m\u001b[1;33m,\u001b[0m \u001b[0mcbar_kws\u001b[0m\u001b[1;33m,\u001b[0m \u001b[0mxticklabels\u001b[0m\u001b[1;33m,\u001b[0m\u001b[1;33m\u001b[0m\u001b[1;33m\u001b[0m\u001b[0m\n\u001b[1;32m--> 517\u001b[1;33m                           yticklabels, mask)\n\u001b[0m\u001b[0;32m    518\u001b[0m \u001b[1;33m\u001b[0m\u001b[0m\n\u001b[0;32m    519\u001b[0m     \u001b[1;31m# Add the pcolormesh kwargs here\u001b[0m\u001b[1;33m\u001b[0m\u001b[1;33m\u001b[0m\u001b[1;33m\u001b[0m\u001b[0m\n",
      "\u001b[1;32m~\\Anaconda3\\lib\\site-packages\\seaborn\\matrix.py\u001b[0m in \u001b[0;36m__init__\u001b[1;34m(self, data, vmin, vmax, cmap, center, robust, annot, fmt, annot_kws, cbar, cbar_kws, xticklabels, yticklabels, mask)\u001b[0m\n\u001b[0;32m    165\u001b[0m         \u001b[1;31m# Determine good default values for the colormapping\u001b[0m\u001b[1;33m\u001b[0m\u001b[1;33m\u001b[0m\u001b[1;33m\u001b[0m\u001b[0m\n\u001b[0;32m    166\u001b[0m         self._determine_cmap_params(plot_data, vmin, vmax,\n\u001b[1;32m--> 167\u001b[1;33m                                     cmap, center, robust)\n\u001b[0m\u001b[0;32m    168\u001b[0m \u001b[1;33m\u001b[0m\u001b[0m\n\u001b[0;32m    169\u001b[0m         \u001b[1;31m# Sort out the annotations\u001b[0m\u001b[1;33m\u001b[0m\u001b[1;33m\u001b[0m\u001b[1;33m\u001b[0m\u001b[0m\n",
      "\u001b[1;32m~\\Anaconda3\\lib\\site-packages\\seaborn\\matrix.py\u001b[0m in \u001b[0;36m_determine_cmap_params\u001b[1;34m(self, plot_data, vmin, vmax, cmap, center, robust)\u001b[0m\n\u001b[0;32m    204\u001b[0m         \u001b[0mcalc_data\u001b[0m \u001b[1;33m=\u001b[0m \u001b[0mplot_data\u001b[0m\u001b[1;33m.\u001b[0m\u001b[0mdata\u001b[0m\u001b[1;33m[\u001b[0m\u001b[1;33m~\u001b[0m\u001b[0mnp\u001b[0m\u001b[1;33m.\u001b[0m\u001b[0misnan\u001b[0m\u001b[1;33m(\u001b[0m\u001b[0mplot_data\u001b[0m\u001b[1;33m.\u001b[0m\u001b[0mdata\u001b[0m\u001b[1;33m)\u001b[0m\u001b[1;33m]\u001b[0m\u001b[1;33m\u001b[0m\u001b[1;33m\u001b[0m\u001b[0m\n\u001b[0;32m    205\u001b[0m         \u001b[1;32mif\u001b[0m \u001b[0mvmin\u001b[0m \u001b[1;32mis\u001b[0m \u001b[1;32mNone\u001b[0m\u001b[1;33m:\u001b[0m\u001b[1;33m\u001b[0m\u001b[1;33m\u001b[0m\u001b[0m\n\u001b[1;32m--> 206\u001b[1;33m             \u001b[0mvmin\u001b[0m \u001b[1;33m=\u001b[0m \u001b[0mnp\u001b[0m\u001b[1;33m.\u001b[0m\u001b[0mpercentile\u001b[0m\u001b[1;33m(\u001b[0m\u001b[0mcalc_data\u001b[0m\u001b[1;33m,\u001b[0m \u001b[1;36m2\u001b[0m\u001b[1;33m)\u001b[0m \u001b[1;32mif\u001b[0m \u001b[0mrobust\u001b[0m \u001b[1;32melse\u001b[0m \u001b[0mcalc_data\u001b[0m\u001b[1;33m.\u001b[0m\u001b[0mmin\u001b[0m\u001b[1;33m(\u001b[0m\u001b[1;33m)\u001b[0m\u001b[1;33m\u001b[0m\u001b[1;33m\u001b[0m\u001b[0m\n\u001b[0m\u001b[0;32m    207\u001b[0m         \u001b[1;32mif\u001b[0m \u001b[0mvmax\u001b[0m \u001b[1;32mis\u001b[0m \u001b[1;32mNone\u001b[0m\u001b[1;33m:\u001b[0m\u001b[1;33m\u001b[0m\u001b[1;33m\u001b[0m\u001b[0m\n\u001b[0;32m    208\u001b[0m             \u001b[0mvmax\u001b[0m \u001b[1;33m=\u001b[0m \u001b[0mnp\u001b[0m\u001b[1;33m.\u001b[0m\u001b[0mpercentile\u001b[0m\u001b[1;33m(\u001b[0m\u001b[0mcalc_data\u001b[0m\u001b[1;33m,\u001b[0m \u001b[1;36m98\u001b[0m\u001b[1;33m)\u001b[0m \u001b[1;32mif\u001b[0m \u001b[0mrobust\u001b[0m \u001b[1;32melse\u001b[0m \u001b[0mcalc_data\u001b[0m\u001b[1;33m.\u001b[0m\u001b[0mmax\u001b[0m\u001b[1;33m(\u001b[0m\u001b[1;33m)\u001b[0m\u001b[1;33m\u001b[0m\u001b[1;33m\u001b[0m\u001b[0m\n",
      "\u001b[1;32m~\\Anaconda3\\lib\\site-packages\\numpy\\core\\_methods.py\u001b[0m in \u001b[0;36m_amin\u001b[1;34m(a, axis, out, keepdims, initial)\u001b[0m\n\u001b[0;32m     30\u001b[0m def _amin(a, axis=None, out=None, keepdims=False,\n\u001b[0;32m     31\u001b[0m           initial=_NoValue):\n\u001b[1;32m---> 32\u001b[1;33m     \u001b[1;32mreturn\u001b[0m \u001b[0mumr_minimum\u001b[0m\u001b[1;33m(\u001b[0m\u001b[0ma\u001b[0m\u001b[1;33m,\u001b[0m \u001b[0maxis\u001b[0m\u001b[1;33m,\u001b[0m \u001b[1;32mNone\u001b[0m\u001b[1;33m,\u001b[0m \u001b[0mout\u001b[0m\u001b[1;33m,\u001b[0m \u001b[0mkeepdims\u001b[0m\u001b[1;33m,\u001b[0m \u001b[0minitial\u001b[0m\u001b[1;33m)\u001b[0m\u001b[1;33m\u001b[0m\u001b[1;33m\u001b[0m\u001b[0m\n\u001b[0m\u001b[0;32m     33\u001b[0m \u001b[1;33m\u001b[0m\u001b[0m\n\u001b[0;32m     34\u001b[0m def _sum(a, axis=None, dtype=None, out=None, keepdims=False,\n",
      "\u001b[1;31mValueError\u001b[0m: zero-size array to reduction operation minimum which has no identity"
     ]
    }
   ],
   "source": [
    "sns.heatmap(rawSocio.corr()).set_title(\"Correlation Heatmap\", size=20)"
   ]
  },
  {
   "cell_type": "markdown",
   "metadata": {},
   "source": [
    "# Reflection"
   ]
  },
  {
   "cell_type": "markdown",
   "metadata": {},
   "source": [
    "The hardest part for our group has been to find usable data well enough to analyze and merge together. Just finding data took us a couple of weeks and we had to go back and forth with this. \n",
    "Our initial insights is that lower income communites have more crime rates and that Unemployment leads to increased crime rates as well. At this point, if we were to plot Income versus crime count, we should be able to see that our hypothesis matches. Going forward, our group will have to dedicate more time to explore the data and create relationships as we spent most of our time trying to find valid data. We made a very good decision in changing our data set to socioEconomic, as now we have valuable valid information. "
   ]
  },
  {
   "cell_type": "markdown",
   "metadata": {},
   "source": [
    "\n"
   ]
  },
  {
   "cell_type": "markdown",
   "metadata": {},
   "source": [
    "# Next Steps"
   ]
  },
  {
   "cell_type": "markdown",
   "metadata": {},
   "source": [
    "In the next few weeks, our group will work on creating more visualizations exploring the different relationships between the above merged data and use Machine Learning to see whether our hypothesis is accurate. If we can show clear relationships between crime and other social economic factors, we will consider out project to have achieved its goals. "
   ]
  }
 ],
 "metadata": {
  "kernelspec": {
   "display_name": "Python 3",
   "language": "python",
   "name": "python3"
  },
  "language_info": {
   "codemirror_mode": {
    "name": "ipython",
    "version": 3
   },
   "file_extension": ".py",
   "mimetype": "text/x-python",
   "name": "python",
   "nbconvert_exporter": "python",
   "pygments_lexer": "ipython3",
   "version": "3.7.4"
  }
 },
 "nbformat": 4,
 "nbformat_minor": 2
}
